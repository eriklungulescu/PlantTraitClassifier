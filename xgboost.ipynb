{
 "cells": [
  {
   "cell_type": "code",
   "execution_count": null,
   "metadata": {},
   "outputs": [],
   "source": [
    "import xgboost as xgb\n",
    "from sklearn.model_selection import train_test_split\n",
    "import numpy as np\n",
    "import pandas as pd\n",
    "from torcheval.metrics import R2Score\n",
    "import torch\n",
    "import optuna\n",
    "from time import time\n",
    "from optuna.visualization import plot_optimization_history\n"
   ]
  },
  {
   "cell_type": "code",
   "execution_count": null,
   "metadata": {},
   "outputs": [],
   "source": [
    "print(f'PyTorch version: {torch.__version__}')\n",
    "print('*'*10)\n",
    "print(f'_CUDA version: ')\n",
    "print('*'*10)\n",
    "print(f'CUDNN version: {torch.backends.cudnn.version()}')\n",
    "print(f'Available GPU devices: {torch.cuda.device_count()}')"
   ]
  },
  {
   "cell_type": "code",
   "execution_count": null,
   "metadata": {},
   "outputs": [],
   "source": [
    "feature_data = pd.read_csv(\"./feature_data/features_big.csv\").to_numpy()"
   ]
  },
  {
   "cell_type": "code",
   "execution_count": null,
   "metadata": {},
   "outputs": [],
   "source": [
    "auxiliary_data = pd.read_csv(\"./data/train.csv\").to_numpy()\n",
    "means = auxiliary_data.mean(axis=0)[1:]\n",
    "stds = auxiliary_data.std(axis=0)[1:]"
   ]
  },
  {
   "cell_type": "code",
   "execution_count": null,
   "metadata": {},
   "outputs": [],
   "source": [
    "X = feature_data[:, :-6]\n",
    "y = feature_data[:, -6:]"
   ]
  },
  {
   "cell_type": "code",
   "execution_count": null,
   "metadata": {},
   "outputs": [],
   "source": [
    "print(X.shape, y.shape)"
   ]
  },
  {
   "cell_type": "code",
   "execution_count": null,
   "metadata": {},
   "outputs": [],
   "source": [
    "X_train, X_val, y_train, y_val = train_test_split(X, y, train_size=0.95, test_size=0.05, random_state=42)"
   ]
  },
  {
   "cell_type": "code",
   "execution_count": null,
   "metadata": {},
   "outputs": [],
   "source": [
    "def train_validate(X_train, y_train, X_val, y_val, params):\n",
    "    model = xgb.XGBRegressor(**params)\n",
    "    model.fit(X_train, y_train, verbose=True)\n",
    "    predictions = model.predict(X_val)\n",
    "\n",
    "    preds_tensor = torch.from_numpy(predictions)\n",
    "    y_test_tensor = torch.from_numpy(y_val)\n",
    "\n",
    "    metric = R2Score()\n",
    "    metric.update(preds_tensor, y_test_tensor)\n",
    "    r2 = metric.compute()\n",
    "    print(r2)\n",
    "    \n",
    "    return model, r2"
   ]
  },
  {
   "cell_type": "code",
   "execution_count": null,
   "metadata": {},
   "outputs": [],
   "source": [
    "def objective(trial):\n",
    "    params = {\n",
    "        \"objective\": \"reg:squarederror\",\n",
    "        \"n_estimators\": 1000,\n",
    "        \"verbosity\": 0,\n",
    "        \"learning_rate\": trial.suggest_float(\"learning_rate\", 1e-3, 0.1, log=True),\n",
    "        \"max_depth\": trial.suggest_int(\"max_depth\", 1, 5),\n",
    "        \"subsample\": trial.suggest_float(\"subsample\", 0.05, 1.0),\n",
    "        \"colsample_bytree\": trial.suggest_float(\"colsample_bytree\", 0.05, 1.0),\n",
    "        \"min_child_weight\": trial.suggest_int(\"min_child_weight\", 1, 20),\n",
    "        \"device\": \"cuda\",\n",
    "    }\n",
    "\n",
    "    _, r2 = train_validate(X_train, y_train, X_val, y_val, params)\n",
    "    return r2\n"
   ]
  },
  {
   "cell_type": "code",
   "execution_count": null,
   "metadata": {},
   "outputs": [],
   "source": [
    "study = optuna.create_study(direction='maximize')\n",
    "study.optimize(objective, n_trials=8)"
   ]
  },
  {
   "cell_type": "code",
   "execution_count": null,
   "metadata": {},
   "outputs": [],
   "source": [
    "plot_optimization_history(study)"
   ]
  },
  {
   "cell_type": "code",
   "execution_count": null,
   "metadata": {},
   "outputs": [],
   "source": [
    "best_params = {\n",
    "    \"learning_rate\": 0.018497092338319334,\n",
    "    \"max_depth\": 9, ## Should be around 7-9\n",
    "    \"subsample\": 0.5786198769876968,\n",
    "    \"colsample_bytree\": 0.12123574373238373,\n",
    "    \"min_child_weight\": 9,\n",
    "    \"objective\": \"reg:squarederror\",\n",
    "    \"n_estimators\": 1000,\n",
    "    \"device\": \"cuda\",\n",
    "    \"verbosity\": 2\n",
    "}"
   ]
  },
  {
   "cell_type": "code",
   "execution_count": null,
   "metadata": {},
   "outputs": [],
   "source": [
    "model, r2 = train_validate(X_train, y_train, X_val, y_val, best_params)"
   ]
  },
  {
   "cell_type": "code",
   "execution_count": null,
   "metadata": {},
   "outputs": [],
   "source": [
    "def predict_test(model, ids, X_test):\n",
    "    y_test = model.predict(X_test)\n",
    "    y_test_scaled = y_test * stds[-6:] + means[-6:]\n",
    "\n",
    "    predictions = np.concatenate((ids, y_test_scaled), axis=1)\n",
    "\n",
    "    DF = pd.DataFrame(predictions, columns=[\"id\",\"X4\",\"X11\",\"X18\",\"X50\",\"X26\",\"X3112\"])\n",
    "    ts = time()\n",
    "    DF.to_csv(f\"./submission/submission_{ts}.csv\", index=False)"
   ]
  },
  {
   "cell_type": "code",
   "execution_count": null,
   "metadata": {},
   "outputs": [],
   "source": [
    "test_data = pd.read_csv(\"./feature_data/features_test.csv\").to_numpy()"
   ]
  },
  {
   "cell_type": "code",
   "execution_count": null,
   "metadata": {},
   "outputs": [],
   "source": [
    "ids = test_data[:, 0].reshape(-1, 1)\n",
    "X_test = test_data[:, 1:]"
   ]
  },
  {
   "cell_type": "code",
   "execution_count": null,
   "metadata": {},
   "outputs": [],
   "source": [
    "predict_test(model, ids, X_test)"
   ]
  }
 ],
 "metadata": {
  "kernelspec": {
   "display_name": "Python 3",
   "language": "python",
   "name": "python3"
  },
  "language_info": {
   "codemirror_mode": {
    "name": "ipython",
    "version": 3
   },
   "file_extension": ".py",
   "mimetype": "text/x-python",
   "name": "python",
   "nbconvert_exporter": "python",
   "pygments_lexer": "ipython3",
   "version": "3.11.0"
  }
 },
 "nbformat": 4,
 "nbformat_minor": 2
}
